{
  "cells": [
    {
      "cell_type": "markdown",
      "metadata": {
        "id": "view-in-github",
        "colab_type": "text"
      },
      "source": [
        "<a href=\"https://colab.research.google.com/github/rb58853/images_RIS-ML-Conv-NLP/blob/main/sam/notebook.ipynb\" target=\"_parent\"><img src=\"https://colab.research.google.com/assets/colab-badge.svg\" alt=\"Open In Colab\"/></a>"
      ]
    },
    {
      "cell_type": "markdown",
      "metadata": {
        "id": "oFZGjgYGLhuv"
      },
      "source": [
        "### install dependences"
      ]
    },
    {
      "cell_type": "code",
      "source": [
        "from google.colab import drive\n",
        "drive.mount('/content/drive')"
      ],
      "metadata": {
        "id": "k_NtshMKNNOh"
      },
      "execution_count": null,
      "outputs": []
    },
    {
      "cell_type": "code",
      "execution_count": null,
      "metadata": {
        "vscode": {
          "languageId": "bat"
        },
        "id": "FdC8pwGOLhuz"
      },
      "outputs": [],
      "source": [
        "pip install transformers"
      ]
    },
    {
      "cell_type": "markdown",
      "metadata": {
        "id": "xoXfWCv9Lhu1"
      },
      "source": [
        "### tool: create image from a input mask"
      ]
    },
    {
      "cell_type": "code",
      "execution_count": 4,
      "metadata": {
        "id": "JeAjr6gKLhu1"
      },
      "outputs": [],
      "source": [
        "from PIL import Image\n",
        "\n",
        "def mask_image(mask, raw_image):\n",
        "    weigth, heigth = raw_image.size\n",
        "    new_image = Image.new('RGBA', (weigth, heigth), (0, 0, 0, 0))\n",
        "\n",
        "    original_pixles = raw_image.load()\n",
        "    pixels = new_image.load()\n",
        "\n",
        "    print(new_image)\n",
        "    new_image.show()\n",
        "\n",
        "    for i in range (weigth):\n",
        "        print()\n",
        "        for j in range (heigth):\n",
        "            print (mask[i,j], end= \" \")\n",
        "            if mask[i,j]:\n",
        "                print(\" \", end = \"\")\n",
        "                pixels[i, j] = original_pixles[i,j]\n",
        "                # new_image[i][j] = raw_image[i][j]\n",
        "            else:\n",
        "                pass\n",
        "                # new_image[i][j] = 0\n",
        "    return new_image"
      ]
    },
    {
      "cell_type": "markdown",
      "metadata": {
        "id": "2zMQNHtfLhu2"
      },
      "source": [
        "### Working with SAM"
      ]
    },
    {
      "cell_type": "markdown",
      "metadata": {
        "id": "JyMFqg0jLhu2"
      },
      "source": [
        "##### import dependences and model from hugginface"
      ]
    },
    {
      "cell_type": "code",
      "execution_count": 5,
      "metadata": {
        "id": "jfHZ7Pi8Lhu3"
      },
      "outputs": [],
      "source": [
        "import torch\n",
        "from PIL import Image\n",
        "import requests\n",
        "from transformers import SamModel, SamProcessor\n",
        "\n",
        "device = \"cuda\" if torch.cuda.is_available() else \"cpu\"\n",
        "model = SamModel.from_pretrained(\"facebook/sam-vit-huge\").to(device)\n",
        "processor = SamProcessor.from_pretrained(\"facebook/sam-vit-huge\")"
      ]
    },
    {
      "cell_type": "markdown",
      "metadata": {
        "id": "kcTrrNTHLhu6"
      },
      "source": [
        "##### select and import image by process"
      ]
    },
    {
      "cell_type": "code",
      "execution_count": 6,
      "metadata": {
        "id": "XJ8UopFoLhu7"
      },
      "outputs": [],
      "source": [
        "img_url = \"/content/drive/MyDrive/Tesis/test_images/4.png\"\n",
        "\n",
        "raw_image = Image.open(img_url).convert(\"RGB\")\n",
        "input_points = [[[450, 600]]]  # 2D location of a window in the image"
      ]
    },
    {
      "cell_type": "markdown",
      "metadata": {
        "id": "oPPfICRSLhu9"
      },
      "source": [
        "##### masks from image"
      ]
    },
    {
      "cell_type": "code",
      "execution_count": 7,
      "metadata": {
        "id": "Z1AM6vNGLhu9"
      },
      "outputs": [],
      "source": [
        "inputs = processor(raw_image, input_points=input_points, return_tensors=\"pt\").to(device)\n",
        "outputs = model(**inputs)\n",
        "\n",
        "#Estas son mascaras booleanas True implica que el pixel en cuestion interesa, y False implica que no es de interes, es Fondo de esa capa\n",
        "masks = processor.image_processor.post_process_masks(\n",
        "    outputs.pred_masks.cpu(), inputs[\"original_sizes\"].cpu(), inputs[\"reshaped_input_sizes\"].cpu()\n",
        ")"
      ]
    },
    {
      "cell_type": "code",
      "source": [
        "for m1 in masks:\n",
        "  for m2 in m1:\n",
        "    for m3 in m2:\n",
        "      print('\\n\\n-----------------NEW MASK-------------------------')\n",
        "      mask_image(m3, raw_image).show()\n",
        "\n"
      ],
      "metadata": {
        "colab": {
          "base_uri": "https://localhost:8080/"
        },
        "id": "JSPJj7kTyW3R",
        "outputId": "336c31b2-3e28-4696-8e86-fe429e0544c1"
      },
      "execution_count": 8,
      "outputs": [
        {
          "output_type": "stream",
          "name": "stdout",
          "text": [
            "\n",
            "\n",
            "-----------------NEW MASK-------------------------\n",
            "<PIL.Image.Image image mode=RGBA size=10x10 at 0x7EE519E6CBB0>\n",
            "\n",
            "tensor(False) tensor(False) tensor(False) tensor(False) tensor(False) tensor(False) tensor(False) tensor(False) tensor(False) tensor(False) \n",
            "tensor(False) tensor(False) tensor(False) tensor(False) tensor(False) tensor(False) tensor(False) tensor(False) tensor(False) tensor(False) \n",
            "tensor(False) tensor(False) tensor(False) tensor(False) tensor(False) tensor(False) tensor(False) tensor(False) tensor(False) tensor(False) \n",
            "tensor(False) tensor(False) tensor(False) tensor(False) tensor(False) tensor(False) tensor(False) tensor(False) tensor(False) tensor(False) \n",
            "tensor(False) tensor(False) tensor(False) tensor(False) tensor(False) tensor(False) tensor(False) tensor(False) tensor(False) tensor(False) \n",
            "tensor(False) tensor(False) tensor(False) tensor(False) tensor(False) tensor(False) tensor(False) tensor(False) tensor(False) tensor(False) \n",
            "tensor(False) tensor(False) tensor(False) tensor(False) tensor(False) tensor(False) tensor(True)  tensor(True)  tensor(False) tensor(False) \n",
            "tensor(False) tensor(False) tensor(False) tensor(False) tensor(False) tensor(False) tensor(True)  tensor(True)  tensor(False) tensor(False) \n",
            "tensor(False) tensor(False) tensor(False) tensor(False) tensor(False) tensor(False) tensor(False) tensor(False) tensor(False) tensor(False) \n",
            "tensor(False) tensor(False) tensor(False) tensor(False) tensor(False) tensor(False) tensor(False) tensor(False) tensor(False) tensor(False) \n",
            "\n",
            "-----------------NEW MASK-------------------------\n",
            "<PIL.Image.Image image mode=RGBA size=10x10 at 0x7EE3DBED7F10>\n",
            "\n",
            "tensor(False) tensor(False) tensor(False) tensor(False) tensor(False) tensor(False) tensor(False) tensor(False) tensor(False) tensor(False) \n",
            "tensor(False) tensor(False) tensor(False) tensor(False) tensor(False) tensor(False) tensor(False) tensor(False) tensor(False) tensor(False) \n",
            "tensor(False) tensor(False) tensor(False) tensor(False) tensor(False) tensor(False) tensor(False) tensor(False) tensor(False) tensor(False) \n",
            "tensor(False) tensor(True)  tensor(True)  tensor(False) tensor(False) tensor(False) tensor(False) tensor(False) tensor(False) tensor(False) \n",
            "tensor(True)  tensor(True)  tensor(True)  tensor(True)  tensor(True)  tensor(True)  tensor(True)  tensor(True)  tensor(True)  tensor(True)  \n",
            "tensor(True)  tensor(True)  tensor(True)  tensor(True)  tensor(True)  tensor(True)  tensor(True)  tensor(True)  tensor(True)  tensor(True)  \n",
            "tensor(True)  tensor(True)  tensor(True)  tensor(True)  tensor(True)  tensor(True)  tensor(False) tensor(False) tensor(True)  tensor(True)  \n",
            "tensor(True)  tensor(True)  tensor(True)  tensor(True)  tensor(True)  tensor(True)  tensor(False) tensor(False) tensor(True)  tensor(True)  \n",
            "tensor(True)  tensor(True)  tensor(True)  tensor(True)  tensor(True)  tensor(True)  tensor(True)  tensor(True)  tensor(True)  tensor(True)  \n",
            "tensor(True)  tensor(True)  tensor(True)  tensor(True)  tensor(True)  tensor(True)  tensor(True)  tensor(True)  tensor(True)  tensor(True)  \n",
            "\n",
            "-----------------NEW MASK-------------------------\n",
            "<PIL.Image.Image image mode=RGBA size=10x10 at 0x7EE3DBED5CF0>\n",
            "\n",
            "tensor(True)  tensor(True)  tensor(True)  tensor(True)  tensor(True)  tensor(True)  tensor(True)  tensor(True)  tensor(True)  tensor(True)  \n",
            "tensor(True)  tensor(False) tensor(False) tensor(True)  tensor(True)  tensor(True)  tensor(True)  tensor(True)  tensor(True)  tensor(True)  \n",
            "tensor(True)  tensor(False) tensor(False) tensor(True)  tensor(True)  tensor(True)  tensor(True)  tensor(True)  tensor(True)  tensor(True)  \n",
            "tensor(True)  tensor(True)  tensor(True)  tensor(True)  tensor(True)  tensor(True)  tensor(True)  tensor(True)  tensor(True)  tensor(True)  \n",
            "tensor(True)  tensor(True)  tensor(True)  tensor(True)  tensor(True)  tensor(True)  tensor(True)  tensor(True)  tensor(True)  tensor(True)  \n",
            "tensor(True)  tensor(True)  tensor(True)  tensor(True)  tensor(True)  tensor(True)  tensor(True)  tensor(True)  tensor(True)  tensor(True)  \n",
            "tensor(True)  tensor(True)  tensor(True)  tensor(True)  tensor(True)  tensor(True)  tensor(False) tensor(False) tensor(True)  tensor(True)  \n",
            "tensor(True)  tensor(True)  tensor(True)  tensor(True)  tensor(True)  tensor(True)  tensor(False) tensor(False) tensor(True)  tensor(True)  \n",
            "tensor(True)  tensor(True)  tensor(True)  tensor(True)  tensor(True)  tensor(True)  tensor(True)  tensor(True)  tensor(True)  tensor(True)  \n",
            "tensor(True)  tensor(True)  tensor(True)  tensor(True)  tensor(True)  tensor(True)  tensor(True)  tensor(True)  tensor(True)  tensor(True)  "
          ]
        }
      ]
    }
  ],
  "metadata": {
    "language_info": {
      "name": "python"
    },
    "orig_nbformat": 4,
    "colab": {
      "provenance": [],
      "machine_shape": "hm",
      "include_colab_link": true
    },
    "kernelspec": {
      "name": "python3",
      "display_name": "Python 3"
    }
  },
  "nbformat": 4,
  "nbformat_minor": 0
}