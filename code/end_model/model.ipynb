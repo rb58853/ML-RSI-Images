{
  "cells": [
    {
      "cell_type": "markdown",
      "metadata": {
        "colab_type": "text",
        "id": "view-in-github"
      },
      "source": [
        "<a href=\"https://colab.research.google.com/github/rb58853/images_RIS-ML-Conv-NLP/blob/main/end_model/notebook.ipynb\" target=\"_parent\"><img src=\"https://colab.research.google.com/assets/colab-badge.svg\" alt=\"Open In Colab\"/></a>"
      ]
    },
    {
      "cell_type": "markdown",
      "metadata": {},
      "source": [
        "### Montar drive"
      ]
    },
    {
      "cell_type": "code",
      "execution_count": null,
      "metadata": {},
      "outputs": [],
      "source": [
        "from google.colab import drive\n",
        "drive.mount(\"/content/gdrive\")"
      ]
    },
    {
      "cell_type": "markdown",
      "metadata": {},
      "source": [
        "### Instalar bibliotecas"
      ]
    },
    {
      "cell_type": "code",
      "execution_count": null,
      "metadata": {
        "colab": {
          "base_uri": "https://localhost:8080/"
        },
        "id": "TnVhTeQkdLdO",
        "outputId": "a6dd296f-14f6-4190-d0e8-08960167cefc",
        "vscode": {
          "languageId": "bat"
        }
      },
      "outputs": [],
      "source": [
        "!pip install transformers\n",
        "!pip install sly\n",
        "!pip install spacy\n",
        "!python3 -m pip install opencv-python matplotlib\n",
        "!python3 -m pip install 'git+https://github.com/rb58853/segment-anything.git'"
      ]
    },
    {
      "cell_type": "markdown",
      "metadata": {
        "id": "O6OaGHeSdLdT"
      },
      "source": [
        "### Importar bibliotecas\n"
      ]
    },
    {
      "cell_type": "code",
      "execution_count": null,
      "metadata": {
        "id": "gY5w4189dLdU"
      },
      "outputs": [],
      "source": [
        "import torch\n",
        "import numpy as np\n",
        "import matplotlib.pyplot as plt\n",
        "from PIL import Image\n",
        "import cv2"
      ]
    },
    {
      "cell_type": "markdown",
      "metadata": {
        "id": "31zOxBhIQlGK"
      },
      "source": [
        "Si estas usando colab ejecute la siguiente celda para importar imagenes de prueba"
      ]
    },
    {
      "cell_type": "code",
      "execution_count": null,
      "metadata": {},
      "outputs": [],
      "source": [
        "import os\n",
        "!git clone https://github.com/rb58853/ML-RSI-Images.git\n",
        "os.chdir('/content/ML-RSI-Images/code/end_model')\n",
        "#Cargar sam en la direcion nueva\n",
        "!wget https://dl.fbaipublicfiles.com/segment_anything/sam_vit_h_4b8939.pth"
      ]
    },
    {
      "cell_type": "markdown",
      "metadata": {
        "id": "Jp5bLjhidLdV"
      },
      "source": [
        "### Cargar Imagen\n",
        "Cargar la imagen que se desea procesar. Para seleccionar una imagen distinta debe cambiar el valor de la variable `img_url`. Si desea cambiar el tamaño minimo que puede tener una segmentacion debe cambiar el valor de la variable `image_partition`."
      ]
    },
    {
      "cell_type": "code",
      "execution_count": null,
      "metadata": {
        "id": "W32WdDIddLdV"
      },
      "outputs": [],
      "source": [
        "images_dir = '../../images/'\n",
        "img_url = images_dir + 'image_2.jpg'\n",
        "raw_image = Image.open(img_url).convert(\"RGB\")\n",
        "image = cv2.imread(img_url)\n",
        "image = cv2.cvtColor(image, cv2.COLOR_BGR2RGB)\n",
        "\n",
        "image_partition = 64 #tamaño mínimo(en píxeles) de un cuadro de segmentación = tamaño(imagen)/image_partition\n",
        "weigth, heigth = raw_image.size\n",
        "area = (weigth * heigth)/image_partition"
      ]
    },
    {
      "cell_type": "markdown",
      "metadata": {},
      "source": [
        "Seleccione el modelo de blip que desea utilizar, si esta en colab, para correr con el modelo blip 2 necesita una GPU v100 o superior. Se recomienda probar el modelo con `blip_version = 1` si no posee colab pro, o no posee al menos 16GB en su tarjeta grafica."
      ]
    },
    {
      "cell_type": "code",
      "execution_count": null,
      "metadata": {},
      "outputs": [],
      "source": [
        "blip_version = 1"
      ]
    },
    {
      "cell_type": "markdown",
      "metadata": {
        "id": "J531WAam-H5V"
      },
      "source": [
        "Para visualizar la imagen cargada ejecutar celda:"
      ]
    },
    {
      "cell_type": "code",
      "execution_count": null,
      "metadata": {
        "colab": {
          "base_uri": "https://localhost:8080/",
          "height": 532
        },
        "id": "h3U4sica-Fab",
        "outputId": "b728466f-b8a0-40b7-e1a9-fb275a5de59f"
      },
      "outputs": [],
      "source": [
        "plt.figure(figsize=(15,15))\n",
        "plt.imshow(image)\n",
        "plt.axis('off')\n",
        "plt.show()"
      ]
    },
    {
      "cell_type": "markdown",
      "metadata": {
        "id": "MQ4vpueydLdW"
      },
      "source": [
        "# Cargar Modelos\n",
        "Para cargar y ejecutar todos los modelos y funciones necesarias para procesar la imagen ejecutar las celdas que estan comprendidas en este encabezado.\n"
      ]
    },
    {
      "cell_type": "markdown",
      "metadata": {
        "id": "0V5u9_PXdLdW"
      },
      "source": [
        "## Segment Anything Model\n",
        "Modelo de segmentación y funciones adicionales para procesar las salidas y entradas del mismo.\n"
      ]
    },
    {
      "cell_type": "code",
      "execution_count": null,
      "metadata": {
        "colab": {
          "base_uri": "https://localhost:8080/"
        },
        "id": "PZaNgE4LdLdX",
        "outputId": "2d93a414-f6ba-4ec3-f4bc-0d497d124879"
      },
      "outputs": [],
      "source": [
        "from features.models import SAM\n",
        "sam = SAM\n",
        "sam.import_model()"
      ]
    },
    {
      "cell_type": "markdown",
      "metadata": {
        "id": "j7woGwmzdLdZ"
      },
      "source": [
        "## BLIP"
      ]
    },
    {
      "cell_type": "code",
      "execution_count": null,
      "metadata": {
        "id": "Tx4X2z7EZOps"
      },
      "outputs": [],
      "source": [
        "from features.models import BLIP, BLIP2\n",
        "caption_model = BLIP\n",
        "if blip_version == 2:\n",
        "    caption_model = BLIP2\n",
        "caption_model.import_model()    "
      ]
    },
    {
      "cell_type": "markdown",
      "metadata": {
        "id": "XPlHAjTbdLdZ"
      },
      "source": [
        "## CLIP"
      ]
    },
    {
      "cell_type": "code",
      "execution_count": null,
      "metadata": {
        "id": "xNZ9Qw3mdLda"
      },
      "outputs": [],
      "source": [
        "from features.models import CLIP\n",
        "clip = CLIP\n",
        "clip.import_model()"
      ]
    },
    {
      "cell_type": "markdown",
      "metadata": {
        "id": "n0T2tjeQdLda"
      },
      "source": [
        "# Run Model\n",
        "En estas celdas se ejecutan las funciones creadas y modelos cargados. Si las 3 celdas con un solo click, se mostrara el ranking de las 10 mejores descripciones encontradas y las descripciones de cada una de las imagenes segmentadas junto a su imagen correspondiente:"
      ]
    },
    {
      "cell_type": "markdown",
      "metadata": {
        "id": "B_7DW5zzQlGV"
      },
      "source": [
        "En esta celda usted puede cambiar los parametros que desee para variar los resultados\n"
      ]
    },
    {
      "cell_type": "code",
      "execution_count": null,
      "metadata": {
        "id": "6GC-uRC2QlGV"
      },
      "outputs": [],
      "source": [
        "# ['box' or 'mask'] DEFAULT: 'box'\n",
        "_segmentation = 'box'\n",
        "\n",
        "# `int` DEFAULT: 80\n",
        "image_partition = 80\n",
        "area = (weigth * heigth)/image_partition\n",
        "\n",
        "# `int` cantidad de descripciones a mostrar DEFAULT: 10\n",
        "count_rank = 10\n",
        "\n",
        "# [`True` or `False`] Usar la descripcion reducida DEFAULT: True\n",
        "use_reduc = False"
      ]
    },
    {
      "cell_type": "code",
      "execution_count": null,
      "metadata": {
        "id": "Ze7wHoYydLda"
      },
      "outputs": [],
      "source": [
        "segm_images = sam.all_areas_from_image(image, raw_image, min_box_area = area, min_area = area/2)[_segmentation]\n",
        "captions = caption_model.all_captions_from_list_images(image, segm_images)"
      ]
    },
    {
      "cell_type": "code",
      "execution_count": null,
      "metadata": {
        "colab": {
          "base_uri": "https://localhost:8080/"
        },
        "id": "b0PH0_GZfPp0",
        "outputId": "cf78e58c-930e-4c8a-bc79-b3af4439b99d"
      },
      "outputs": [],
      "source": [
        "image_caption = str(caption_model.caption(image))\n",
        "print(\"image_caption: \" + image_caption)\n",
        "result = clip.select_caption(captions, raw_image)\n",
        "print(\"original_caption: \"+str(result['caption']))\n",
        "# rduced_caption = clip.reduce_caption(result['caption'], raw_image)\n",
        "# print(\"reduced_caption: \"+str(rduced_caption))\n",
        "\n",
        "# if use_reduc and rduced_caption not in captions:\n",
        "#     captions.append(rduced_caption)\n",
        "\n",
        "# result = select_caption(captions, raw_image)\n",
        "\n",
        "probs = result['probs']\n",
        "end_captions = clip.short_captions(probs, captions)\n",
        "\n",
        "long_caption = image_caption\n",
        "max_long = 2\n",
        "len_caption_image = len(image_caption)\n",
        "for caption,_ in zip(end_captions.values(),range(max_long)):\n",
        "    long_caption += \". \" + caption[len_caption_image:]\n",
        "\n",
        "print(\"long_caption: \"+str(long_caption))\n",
        "# rduced_long_caption = reduce_caption(long_caption, raw_image)\n",
        "# print(\"reduced_long_caption: \"+str(rduced_long_caption), end= '\\n\\n')\n",
        "\n",
        "print(\"ranking: \")\n",
        "end_key = None\n",
        "last_print = False\n",
        "for key,value,i in zip(end_captions.keys(),end_captions.values(),range(1000)):\n",
        "    last_print = True\n",
        "    if i < count_rank:\n",
        "        print(str(i+1)+\". {:.2f}\".format(key * 100) + \"%: \"+ str(value))\n",
        "        las_print = False\n",
        "    end_key = key\n",
        "\n",
        "if last_print:\n",
        "    print(\".\\n.\\n.\\n\"+str(len(end_captions.keys())) + \". {:.2f}\".format(end_key * 100) + \"%: \"+ str(end_captions[end_key]))\n"
      ]
    },
    {
      "cell_type": "markdown",
      "metadata": {},
      "source": [
        "#### Tokenizar el caption final (long)"
      ]
    },
    {
      "cell_type": "code",
      "execution_count": null,
      "metadata": {},
      "outputs": [],
      "source": [
        "import tokenize\n",
        "tokens = tokenize.start(long_caption)\n",
        "for token in tokens:\n",
        "    print (token)"
      ]
    },
    {
      "cell_type": "markdown",
      "metadata": {
        "id": "JQhoEC_HB_w6"
      },
      "source": [
        "# Ver segmentaciones"
      ]
    },
    {
      "cell_type": "code",
      "execution_count": null,
      "metadata": {
        "colab": {
          "base_uri": "https://localhost:8080/",
          "height": 1000
        },
        "id": "gqyob5Ejvi-n",
        "outputId": "e8e5378a-c32e-4f4d-858f-c10a45ed6c20"
      },
      "outputs": [],
      "source": [
        "show = True\n",
        "if show:\n",
        "    for im in segm_images:\n",
        "        plt.figure(figsize=(2,2))\n",
        "        plt.title(caption_model.caption(im))\n",
        "        plt.imshow(im)\n",
        "        plt.axis('off')\n",
        "        plt.show()"
      ]
    }
  ],
  "metadata": {
    "accelerator": "GPU",
    "colab": {
      "gpuType": "V100",
      "include_colab_link": true,
      "machine_shape": "hm",
      "provenance": []
    },
    "kernelspec": {
      "display_name": "Python 3",
      "name": "python3"
    },
    "language_info": {
      "codemirror_mode": {
        "name": "ipython",
        "version": 3
      },
      "file_extension": ".py",
      "mimetype": "text/x-python",
      "name": "python",
      "nbconvert_exporter": "python",
      "pygments_lexer": "ipython3",
      "version": "3.10.12"
    },
    "widgets": {
      "application/vnd.jupyter.widget-state+json": {
        "404cb9a52cf948d4bb63bb593c8e4bb4": {
          "model_module": "@jupyter-widgets/controls",
          "model_module_version": "1.5.0",
          "model_name": "HTMLModel",
          "state": {
            "_dom_classes": [],
            "_model_module": "@jupyter-widgets/controls",
            "_model_module_version": "1.5.0",
            "_model_name": "HTMLModel",
            "_view_count": null,
            "_view_module": "@jupyter-widgets/controls",
            "_view_module_version": "1.5.0",
            "_view_name": "HTMLView",
            "description": "",
            "description_tooltip": null,
            "layout": "IPY_MODEL_f216e39aad74420a8be895632d470d7a",
            "placeholder": "​",
            "style": "IPY_MODEL_e0f305ec36b84d55adfa4a6a148e8a1c",
            "value": "Loading checkpoint shards: 100%"
          }
        },
        "6a031288f56744ecb574aa3e39e6d3f2": {
          "model_module": "@jupyter-widgets/base",
          "model_module_version": "1.2.0",
          "model_name": "LayoutModel",
          "state": {
            "_model_module": "@jupyter-widgets/base",
            "_model_module_version": "1.2.0",
            "_model_name": "LayoutModel",
            "_view_count": null,
            "_view_module": "@jupyter-widgets/base",
            "_view_module_version": "1.2.0",
            "_view_name": "LayoutView",
            "align_content": null,
            "align_items": null,
            "align_self": null,
            "border": null,
            "bottom": null,
            "display": null,
            "flex": null,
            "flex_flow": null,
            "grid_area": null,
            "grid_auto_columns": null,
            "grid_auto_flow": null,
            "grid_auto_rows": null,
            "grid_column": null,
            "grid_gap": null,
            "grid_row": null,
            "grid_template_areas": null,
            "grid_template_columns": null,
            "grid_template_rows": null,
            "height": null,
            "justify_content": null,
            "justify_items": null,
            "left": null,
            "margin": null,
            "max_height": null,
            "max_width": null,
            "min_height": null,
            "min_width": null,
            "object_fit": null,
            "object_position": null,
            "order": null,
            "overflow": null,
            "overflow_x": null,
            "overflow_y": null,
            "padding": null,
            "right": null,
            "top": null,
            "visibility": null,
            "width": null
          }
        },
        "832ea7f84b88477ab83e784c0d3fe857": {
          "model_module": "@jupyter-widgets/controls",
          "model_module_version": "1.5.0",
          "model_name": "HTMLModel",
          "state": {
            "_dom_classes": [],
            "_model_module": "@jupyter-widgets/controls",
            "_model_module_version": "1.5.0",
            "_model_name": "HTMLModel",
            "_view_count": null,
            "_view_module": "@jupyter-widgets/controls",
            "_view_module_version": "1.5.0",
            "_view_name": "HTMLView",
            "description": "",
            "description_tooltip": null,
            "layout": "IPY_MODEL_bfe9cac28fdb4ab5a708b75f255089c1",
            "placeholder": "​",
            "style": "IPY_MODEL_a1b1012874934665ab3fc04ef1af55e7",
            "value": " 2/2 [00:31&lt;00:00, 16.58s/it]"
          }
        },
        "8bf194bc3a6246159cc0be3d000c5bde": {
          "model_module": "@jupyter-widgets/base",
          "model_module_version": "1.2.0",
          "model_name": "LayoutModel",
          "state": {
            "_model_module": "@jupyter-widgets/base",
            "_model_module_version": "1.2.0",
            "_model_name": "LayoutModel",
            "_view_count": null,
            "_view_module": "@jupyter-widgets/base",
            "_view_module_version": "1.2.0",
            "_view_name": "LayoutView",
            "align_content": null,
            "align_items": null,
            "align_self": null,
            "border": null,
            "bottom": null,
            "display": null,
            "flex": null,
            "flex_flow": null,
            "grid_area": null,
            "grid_auto_columns": null,
            "grid_auto_flow": null,
            "grid_auto_rows": null,
            "grid_column": null,
            "grid_gap": null,
            "grid_row": null,
            "grid_template_areas": null,
            "grid_template_columns": null,
            "grid_template_rows": null,
            "height": null,
            "justify_content": null,
            "justify_items": null,
            "left": null,
            "margin": null,
            "max_height": null,
            "max_width": null,
            "min_height": null,
            "min_width": null,
            "object_fit": null,
            "object_position": null,
            "order": null,
            "overflow": null,
            "overflow_x": null,
            "overflow_y": null,
            "padding": null,
            "right": null,
            "top": null,
            "visibility": null,
            "width": null
          }
        },
        "a1b1012874934665ab3fc04ef1af55e7": {
          "model_module": "@jupyter-widgets/controls",
          "model_module_version": "1.5.0",
          "model_name": "DescriptionStyleModel",
          "state": {
            "_model_module": "@jupyter-widgets/controls",
            "_model_module_version": "1.5.0",
            "_model_name": "DescriptionStyleModel",
            "_view_count": null,
            "_view_module": "@jupyter-widgets/base",
            "_view_module_version": "1.2.0",
            "_view_name": "StyleView",
            "description_width": ""
          }
        },
        "bfe9cac28fdb4ab5a708b75f255089c1": {
          "model_module": "@jupyter-widgets/base",
          "model_module_version": "1.2.0",
          "model_name": "LayoutModel",
          "state": {
            "_model_module": "@jupyter-widgets/base",
            "_model_module_version": "1.2.0",
            "_model_name": "LayoutModel",
            "_view_count": null,
            "_view_module": "@jupyter-widgets/base",
            "_view_module_version": "1.2.0",
            "_view_name": "LayoutView",
            "align_content": null,
            "align_items": null,
            "align_self": null,
            "border": null,
            "bottom": null,
            "display": null,
            "flex": null,
            "flex_flow": null,
            "grid_area": null,
            "grid_auto_columns": null,
            "grid_auto_flow": null,
            "grid_auto_rows": null,
            "grid_column": null,
            "grid_gap": null,
            "grid_row": null,
            "grid_template_areas": null,
            "grid_template_columns": null,
            "grid_template_rows": null,
            "height": null,
            "justify_content": null,
            "justify_items": null,
            "left": null,
            "margin": null,
            "max_height": null,
            "max_width": null,
            "min_height": null,
            "min_width": null,
            "object_fit": null,
            "object_position": null,
            "order": null,
            "overflow": null,
            "overflow_x": null,
            "overflow_y": null,
            "padding": null,
            "right": null,
            "top": null,
            "visibility": null,
            "width": null
          }
        },
        "c8deaaaab58b48e98bf2476bf041d5f9": {
          "model_module": "@jupyter-widgets/controls",
          "model_module_version": "1.5.0",
          "model_name": "HBoxModel",
          "state": {
            "_dom_classes": [],
            "_model_module": "@jupyter-widgets/controls",
            "_model_module_version": "1.5.0",
            "_model_name": "HBoxModel",
            "_view_count": null,
            "_view_module": "@jupyter-widgets/controls",
            "_view_module_version": "1.5.0",
            "_view_name": "HBoxView",
            "box_style": "",
            "children": [
              "IPY_MODEL_404cb9a52cf948d4bb63bb593c8e4bb4",
              "IPY_MODEL_fdfea0b0b30b40a185825009db5c7c10",
              "IPY_MODEL_832ea7f84b88477ab83e784c0d3fe857"
            ],
            "layout": "IPY_MODEL_8bf194bc3a6246159cc0be3d000c5bde"
          }
        },
        "e0f305ec36b84d55adfa4a6a148e8a1c": {
          "model_module": "@jupyter-widgets/controls",
          "model_module_version": "1.5.0",
          "model_name": "DescriptionStyleModel",
          "state": {
            "_model_module": "@jupyter-widgets/controls",
            "_model_module_version": "1.5.0",
            "_model_name": "DescriptionStyleModel",
            "_view_count": null,
            "_view_module": "@jupyter-widgets/base",
            "_view_module_version": "1.2.0",
            "_view_name": "StyleView",
            "description_width": ""
          }
        },
        "f216e39aad74420a8be895632d470d7a": {
          "model_module": "@jupyter-widgets/base",
          "model_module_version": "1.2.0",
          "model_name": "LayoutModel",
          "state": {
            "_model_module": "@jupyter-widgets/base",
            "_model_module_version": "1.2.0",
            "_model_name": "LayoutModel",
            "_view_count": null,
            "_view_module": "@jupyter-widgets/base",
            "_view_module_version": "1.2.0",
            "_view_name": "LayoutView",
            "align_content": null,
            "align_items": null,
            "align_self": null,
            "border": null,
            "bottom": null,
            "display": null,
            "flex": null,
            "flex_flow": null,
            "grid_area": null,
            "grid_auto_columns": null,
            "grid_auto_flow": null,
            "grid_auto_rows": null,
            "grid_column": null,
            "grid_gap": null,
            "grid_row": null,
            "grid_template_areas": null,
            "grid_template_columns": null,
            "grid_template_rows": null,
            "height": null,
            "justify_content": null,
            "justify_items": null,
            "left": null,
            "margin": null,
            "max_height": null,
            "max_width": null,
            "min_height": null,
            "min_width": null,
            "object_fit": null,
            "object_position": null,
            "order": null,
            "overflow": null,
            "overflow_x": null,
            "overflow_y": null,
            "padding": null,
            "right": null,
            "top": null,
            "visibility": null,
            "width": null
          }
        },
        "fbede12a3eaf49f6b18af18f0133014e": {
          "model_module": "@jupyter-widgets/controls",
          "model_module_version": "1.5.0",
          "model_name": "ProgressStyleModel",
          "state": {
            "_model_module": "@jupyter-widgets/controls",
            "_model_module_version": "1.5.0",
            "_model_name": "ProgressStyleModel",
            "_view_count": null,
            "_view_module": "@jupyter-widgets/base",
            "_view_module_version": "1.2.0",
            "_view_name": "StyleView",
            "bar_color": null,
            "description_width": ""
          }
        },
        "fdfea0b0b30b40a185825009db5c7c10": {
          "model_module": "@jupyter-widgets/controls",
          "model_module_version": "1.5.0",
          "model_name": "FloatProgressModel",
          "state": {
            "_dom_classes": [],
            "_model_module": "@jupyter-widgets/controls",
            "_model_module_version": "1.5.0",
            "_model_name": "FloatProgressModel",
            "_view_count": null,
            "_view_module": "@jupyter-widgets/controls",
            "_view_module_version": "1.5.0",
            "_view_name": "ProgressView",
            "bar_style": "success",
            "description": "",
            "description_tooltip": null,
            "layout": "IPY_MODEL_6a031288f56744ecb574aa3e39e6d3f2",
            "max": 2,
            "min": 0,
            "orientation": "horizontal",
            "style": "IPY_MODEL_fbede12a3eaf49f6b18af18f0133014e",
            "value": 2
          }
        }
      }
    }
  },
  "nbformat": 4,
  "nbformat_minor": 0
}
