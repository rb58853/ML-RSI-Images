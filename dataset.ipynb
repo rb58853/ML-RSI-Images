{
  "nbformat": 4,
  "nbformat_minor": 0,
  "metadata": {
    "colab": {
      "provenance": [],
      "authorship_tag": "ABX9TyMo2PlmLhRjQpp21XBESvn/",
      "include_colab_link": true
    },
    "kernelspec": {
      "name": "python3",
      "display_name": "Python 3"
    },
    "language_info": {
      "name": "python"
    }
  },
  "cells": [
    {
      "cell_type": "markdown",
      "metadata": {
        "id": "view-in-github",
        "colab_type": "text"
      },
      "source": [
        "<a href=\"https://colab.research.google.com/github/rb58853/ML-RSI-Images/blob/main/dataset.ipynb\" target=\"_parent\"><img src=\"https://colab.research.google.com/assets/colab-badge.svg\" alt=\"Open In Colab\"/></a>"
      ]
    },
    {
      "cell_type": "markdown",
      "source": [
        "## mount drive"
      ],
      "metadata": {
        "id": "C6l41i2x0rpz"
      }
    },
    {
      "cell_type": "code",
      "source": [
        "from google.colab import drive\n",
        "    drive.mount(\"/content/gdrive\")"
      ],
      "metadata": {
        "id": "P8L6mTpI0p59"
      },
      "execution_count": null,
      "outputs": []
    },
    {
      "cell_type": "code",
      "execution_count": null,
      "metadata": {
        "id": "rAJicJIhxgRH"
      },
      "outputs": [],
      "source": [
        "pip install datasets"
      ]
    },
    {
      "cell_type": "code",
      "source": [
        "from PIL import Image\n",
        "# load_images and captions\n",
        "def load_data(base_path = '/content/gdrive/My Drive/Images-RI-ML/Data', tokens = True):\n",
        "    data_path = [file for file in os.listdir(base_path) if file.endswith(('.jpg', '.png'))].sort()\n",
        "\n",
        "    for file in images_path:\n",
        "        print(file)\n",
        "\n",
        "    images  = []\n",
        "    captions  = []\n",
        "\n",
        "    for load_image_path in images_path:\n",
        "        images.append(Image.open(base_path + load_image_path))\n",
        "        text_path = base_path + load_image_path[:-4]+'.txt'\n",
        "        if not tokens:\n",
        "            text_path = base_path + load_image_path[:-4]+'_caption.txt'\n",
        "\n",
        "        with open(text_path) as file:\n",
        "            text = file.read()\n",
        "            file.close()\n",
        "            captions.append(text)\n",
        "\n",
        "    return {'image': images, 'caption': captions}"
      ],
      "metadata": {
        "id": "0p1JCWYrytM8"
      },
      "execution_count": null,
      "outputs": []
    },
    {
      "cell_type": "code",
      "source": [
        "from datasets import Dataset\n",
        "\n",
        "# Supongamos que `images` es una lista de tus imágenes y `captions` es una lista de las descripciones correspondientes\n",
        "# dataset = Dataset.from_dict({'image': images, 'caption': captions})\n",
        "dataset = Dataset.from_dict(load_data)\n"
      ],
      "metadata": {
        "id": "0rmiYvycypfm"
      },
      "execution_count": null,
      "outputs": []
    },
    {
      "cell_type": "code",
      "source": [
        "import matplotlib\n",
        "for image, text in zip(load_data['image'],load_data['caption']):\n",
        "    plt.figure(figsize=(2,2))\n",
        "    plt.title(text)\n",
        "    plt.imshow(image)\n",
        "    plt.axis('off')\n",
        "    plt.show()"
      ],
      "metadata": {
        "id": "trExvyoa7kAL"
      },
      "execution_count": null,
      "outputs": []
    },
    {
      "cell_type": "code",
      "source": [
        "# Supongamos que `local_dir` es la ruta al directorio donde quieres guardar tu conjunto de datos\n",
        "local_dir = '/content/gdrive/My Drive/Images-RI-ML/Dataset/'\n",
        "dataset.save_to_disk(local_dir)"
      ],
      "metadata": {
        "id": "a5lGIE8ey31f"
      },
      "execution_count": null,
      "outputs": []
    },
    {
      "cell_type": "code",
      "source": [
        "from huggingface_hub import Repository\n",
        "\n",
        "# Supongamos que `local_dir` es la ruta al directorio donde se encuentra tu conjunto de datos\n",
        "repo = Repository(local_dir=local_dir, clone_from=\"https://huggingface.co/rb58853/image-caption-dataset\")\n",
        "repo.push_to_hub()\n"
      ],
      "metadata": {
        "id": "ezL_xH091HNB"
      },
      "execution_count": null,
      "outputs": []
    }
  ]
}