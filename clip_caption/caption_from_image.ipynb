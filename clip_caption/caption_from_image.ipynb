{
  "cells": [
    {
      "cell_type": "code",
      "source": [
        "from google.colab import drive\n",
        "drive.mount('/content/drive')"
      ],
      "metadata": {
        "colab": {
          "base_uri": "https://localhost:8080/"
        },
        "id": "_ihGoIYnhbPL",
        "outputId": "c713e823-4df4-4499-aa0e-7ddbc25ae6f7"
      },
      "execution_count": 24,
      "outputs": [
        {
          "output_type": "stream",
          "name": "stdout",
          "text": [
            "Mounted at /content/drive\n"
          ]
        }
      ]
    },
    {
      "cell_type": "code",
      "execution_count": null,
      "metadata": {
        "id": "L2DLBfg7YFOC"
      },
      "outputs": [],
      "source": [
        "pip install transformers"
      ]
    },
    {
      "cell_type": "code",
      "execution_count": 59,
      "metadata": {
        "id": "QWpjB8hPYFOI"
      },
      "outputs": [],
      "source": [
        "from PIL import Image\n",
        "import requests\n",
        "\n",
        "from transformers import CLIPProcessor, CLIPModel\n",
        "\n",
        "model = CLIPModel.from_pretrained(\"openai/clip-vit-base-patch32\")\n",
        "processor = CLIPProcessor.from_pretrained(\"openai/clip-vit-base-patch32\")\n",
        "_images = []\n",
        "\n",
        "url = \"/content/drive/MyDrive/Tesis/Clip_tests/1.jpg\"\n",
        "_images.append(Image.open(url))\n",
        "url = \"/content/drive/MyDrive/Tesis/Clip_tests/2.jpg\"\n",
        "_images.append(Image.open(url))\n",
        "url = \"/content/drive/MyDrive/Tesis/Clip_tests/car.png\"\n",
        "_images.append(Image.open(url))\n",
        "\n",
        "inputs = processor(text=[\"a cat with a knife in the neck of a dog slying down in a sofa next to a TV control\"], images=_images, return_tensors=\"pt\", padding=True)\n",
        "outputs = model(**inputs)\n",
        "\n",
        "logits_per_text = outputs.logits_per_text  # this is the image-text similarity score\n",
        "probs = logits_per_text.softmax(dim=1)  # we can take the softmax to get the label probabilities"
      ]
    },
    {
      "cell_type": "markdown",
      "metadata": {
        "id": "i3eN7ulTYFOH"
      },
      "source": [
        "#### basic clip usecase"
      ]
    },
    {
      "cell_type": "code",
      "source": [
        "print(probs)"
      ],
      "metadata": {
        "colab": {
          "base_uri": "https://localhost:8080/"
        },
        "id": "3477TQTlaJr9",
        "outputId": "7e312aba-ba56-47bc-e243-22f7cf6cf05d"
      },
      "execution_count": 60,
      "outputs": [
        {
          "output_type": "stream",
          "name": "stdout",
          "text": [
            "tensor([[2.5771e-01, 7.4229e-01, 2.7378e-07]], grad_fn=<SoftmaxBackward0>)\n"
          ]
        }
      ]
    }
  ],
  "metadata": {
    "language_info": {
      "name": "python"
    },
    "orig_nbformat": 4,
    "colab": {
      "provenance": [],
      "machine_shape": "hm"
    },
    "kernelspec": {
      "name": "python3",
      "display_name": "Python 3"
    }
  },
  "nbformat": 4,
  "nbformat_minor": 0
}