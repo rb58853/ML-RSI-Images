{
  "cells": [
    {
      "cell_type": "markdown",
      "metadata": {
        "colab_type": "text",
        "id": "view-in-github"
      },
      "source": [
        "<a href=\"https://colab.research.google.com/github/rb58853/ML-RSI-Images/blob/main/MyModel.ipynb\" target=\"_parent\"><img src=\"https://colab.research.google.com/assets/colab-badge.svg\" alt=\"Open In Colab\"/></a>"
      ]
    },
    {
      "cell_type": "code",
      "execution_count": 56,
      "metadata": {
        "colab": {
          "base_uri": "https://localhost:8080/"
        },
        "id": "Lm8_tPwj8Bbe",
        "outputId": "8a11da6a-3658-4950-e2ca-4db8b426114b"
      },
      "outputs": [
        {
          "name": "stdout",
          "output_type": "stream",
          "text": [
            "[[[2 1]\n",
            "  [4 6]]\n",
            "\n",
            " [[3 1]\n",
            "  [4 6]]\n",
            "\n",
            " [[4 1]\n",
            "  [4 6]]]\n",
            "[[[2 1]\n",
            "  [2 5]]\n",
            "\n",
            " [[3 1]\n",
            "  [3 5]]\n",
            "\n",
            " [[4 1]\n",
            "  [4 5]]]\n"
          ]
        }
      ],
      "source": [
        "from keras.preprocessing.text import Tokenizer\n",
        "from keras.preprocessing.sequence import pad_sequences\n",
        "from keras.layers import Input, Dense, Reshape, Flatten\n",
        "from keras.models import Model\n",
        "import numpy as np\n",
        "\n",
        "class MyModel():\n",
        "  def __init__(self, data_path, max_input_len = 100, max_item_output_len = 50, max_output_len = 100):\n",
        "    self.max_item_output_len = max_item_output_len\n",
        "    self.max_input_len = max_input_len\n",
        "    self.max_output_len = max_output_len\n",
        "\n",
        "    self.data = self.get_data(data_path)\n",
        "    self.model = self.get_model()\n",
        "\n",
        "  def get_data(self,data_path):\n",
        "    return {\n",
        "    'input':[\n",
        "        'dog playing',\n",
        "        'cat playing',\n",
        "        'lion playing'\n",
        "        ],\n",
        "    'output':[\n",
        "        ['dog playing', 'dog x'],\n",
        "        ['cat playing',' cat x'],\n",
        "        ['lion playing' , 'lion x']\n",
        "        ],\n",
        "    'types':\n",
        "     [\n",
        "        [4,6],\n",
        "        [4,6],\n",
        "        [4,6]\n",
        "        ]\n",
        "      }\n",
        "\n",
        "  def get_train(self):\n",
        "    # Crea un objeto Tokenizer\n",
        "    tokenizer = Tokenizer()\n",
        "    # Ajusta el tokenizer a tus datos\n",
        "    types =  self.data['types']\n",
        "    output = self.data ['output']\n",
        "    input =  self.data ['input']\n",
        "\n",
        "    tokenizer.fit_on_texts(input+['x'])\n",
        "    vocab_size = len(tokenizer.word_index) + 1\n",
        "    sequences_input = tokenizer.texts_to_sequences(input)\n",
        "\n",
        "    sequences_output = []\n",
        "    for item in output:\n",
        "      texts = [text for text in item]\n",
        "      sequences_output.append(tokenizer.texts_to_sequences(texts))\n",
        "\n",
        "    train_x =  [np.array([date_input, date_type]) for date_input, date_type in zip(sequences_input, types)]\n",
        "    train_x = np.array(train_x)\n",
        "    train_y = np.array( [np.array(item) for item in sequences_output])\n",
        "\n",
        "    for item0 in train_x:\n",
        "      for item1 in item0:\n",
        "        for item2 in item1:\n",
        "          while len(item2) < self.max_input_len:\n",
        "            item1 = np.append(item1, -1)\n",
        "    \n",
        "    for item0 in train_y:\n",
        "      for item1 in item0:\n",
        "        while len(item1) < self.max_output_len:\n",
        "          item1 = np.append(item1, np.array([[-1]* self.max_item_output_len]), axis=0)\n",
        "        for item2 in item1:\n",
        "          while len(item2) < self.max_item_output_len:\n",
        "            item1 = np.append(item1, -1)\n",
        "    \n",
        "    return  {'train_x':train_x, 'train_y':train_y}\n",
        "\n",
        "  def get_model(self):\n",
        "    total_len_output = self.max_output_len * self.max_item_output_len\n",
        "    inputA = Input(shape=(2, self.max_input_len))\n",
        "    x = Flatten(input_shape=(2, self.max_input_len))(inputA)\n",
        "    x = Dense(32, activation='relu')(x)\n",
        "    x = Dense(4, activation='relu')(x)\n",
        "    x = Dense(total_len_output, activation='relu')(x)\n",
        "    output = Reshape((self.max_output_len, self.max_item_output_len))(x)\n",
        "    return Model(inputs=inputA, outputs=output)\n",
        "\n",
        "  def fit(self):\n",
        "    self.model.compile(loss='categorical_crossentropy', optimizer='adam', metrics=['accuracy'])\n",
        "    train = self.get_train()\n",
        "    train_x = train['train_x']\n",
        "    train_y = train['train_y']\n",
        "    self.model.fit(train_x, train_y, epochs=10, batch_size=32)\n",
        "    # Convierte tus datos en secuencias de números\n"
      ]
    }
  ],
  "metadata": {
    "colab": {
      "authorship_tag": "ABX9TyMowAfD0kT0fZ5fDJKOGNnw",
      "include_colab_link": true,
      "provenance": []
    },
    "kernelspec": {
      "display_name": "Python 3",
      "name": "python3"
    },
    "language_info": {
      "name": "python"
    }
  },
  "nbformat": 4,
  "nbformat_minor": 0
}
