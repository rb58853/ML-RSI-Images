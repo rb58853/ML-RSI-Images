{
  "nbformat": 4,
  "nbformat_minor": 0,
  "metadata": {
    "colab": {
      "provenance": [],
      "authorship_tag": "ABX9TyMowAfD0kT0fZ5fDJKOGNnw",
      "include_colab_link": true
    },
    "kernelspec": {
      "name": "python3",
      "display_name": "Python 3"
    },
    "language_info": {
      "name": "python"
    }
  },
  "cells": [
    {
      "cell_type": "markdown",
      "metadata": {
        "id": "view-in-github",
        "colab_type": "text"
      },
      "source": [
        "<a href=\"https://colab.research.google.com/github/rb58853/ML-RSI-Images/blob/main/MyModel.ipynb\" target=\"_parent\"><img src=\"https://colab.research.google.com/assets/colab-badge.svg\" alt=\"Open In Colab\"/></a>"
      ]
    },
    {
      "cell_type": "code",
      "source": [
        "from keras.preprocessing.text import Tokenizer\n",
        "import numpy as np\n",
        "\n",
        "class MyModel():\n",
        "  def __init__(self, data_path, max_input_len = 500, max_item_output_len = 500, max_output_len = 500):\n",
        "    self.max_item_output_len = max_item_output_len\n",
        "    self.max_input_len = max_input_len\n",
        "    self.max_output_len = max_output_len\n",
        "\n",
        "    self.data:dict\n",
        "    self.set_data(data_path)\n",
        "    self.model = self.get_model\n",
        "\n",
        "  def set_data(self,data_path):\n",
        "    self.data = {\n",
        "    'input':[\n",
        "        'dog playing',\n",
        "        'cat playing',\n",
        "        'lion playing'\n",
        "        ],\n",
        "    'output':[\n",
        "        ['dog playing', 'dog x'],\n",
        "        ['cat playing',' cat x'],\n",
        "        ['lion playing' , 'lion x']\n",
        "        ],\n",
        "    'types':\n",
        "     [\n",
        "        [4,6],\n",
        "        [4,6],\n",
        "        [4,6]\n",
        "        ]\n",
        "      }\n",
        "\n",
        "  def get_train(self):\n",
        "    # Crea un objeto Tokenizer\n",
        "    tokenizer = Tokenizer()\n",
        "    # Ajusta el tokenizer a tus datos\n",
        "    types =  self.data['types']\n",
        "    output = self.data ['output']\n",
        "    input =  self.data ['input']\n",
        "\n",
        "    tokenizer.fit_on_texts(input+['x'])\n",
        "    vocab_size = len(tokenizer.word_index) + 1\n",
        "    sequences_input = tokenizer.texts_to_sequences(input)\n",
        "\n",
        "    sequences_output = []\n",
        "    for item in output:\n",
        "      texts = [text for text in item]\n",
        "      sequences_output.append(tokenizer.texts_to_sequences(texts))\n",
        "\n",
        "    train_x =  [np.array([date_input, date_type]) for date_input, date_type in zip(sequences_input, types)]\n",
        "    train_x = np.array(train_x)\n",
        "    train_y = np.array( [np.array(item) for item in sequences_output])\n",
        "\n",
        "    return  {'train_x':train_x, 'train_y':train_y}\n",
        "\n",
        "  def get_model(self):\n",
        "    inputA = Input(shape=(2, max_input_len))\n",
        "    x = Flatten(input_shape=(2, max_input_len))(inputA)\n",
        "    x = Dense(32, activation='relu')(x)\n",
        "    x = Dense(4, activation='relu')(x)\n",
        "    x = Dense(4, activation='relu')(x)\n",
        "    output = Reshape((max_output_len, max_item_output_len))(x)\n",
        "\n",
        "# Convierte tus datos en secuencias de números\n"
      ],
      "metadata": {
        "colab": {
          "base_uri": "https://localhost:8080/"
        },
        "id": "Lm8_tPwj8Bbe",
        "outputId": "8a11da6a-3658-4950-e2ca-4db8b426114b"
      },
      "execution_count": 56,
      "outputs": [
        {
          "output_type": "stream",
          "name": "stdout",
          "text": [
            "[[[2 1]\n",
            "  [4 6]]\n",
            "\n",
            " [[3 1]\n",
            "  [4 6]]\n",
            "\n",
            " [[4 1]\n",
            "  [4 6]]]\n",
            "[[[2 1]\n",
            "  [2 5]]\n",
            "\n",
            " [[3 1]\n",
            "  [3 5]]\n",
            "\n",
            " [[4 1]\n",
            "  [4 5]]]\n"
          ]
        }
      ]
    },
    {
      "cell_type": "code",
      "execution_count": 58,
      "metadata": {
        "colab": {
          "base_uri": "https://localhost:8080/"
        },
        "id": "ioSI3LRx7UUV",
        "outputId": "a29cb914-79f9-400b-8745-5ebec553d23c"
      },
      "outputs": [
        {
          "output_type": "stream",
          "name": "stdout",
          "text": [
            "Epoch 1/10\n",
            "1/1 [==============================] - 1s 1s/step - loss: nan - accuracy: 0.5000\n",
            "Epoch 2/10\n",
            "1/1 [==============================] - 0s 18ms/step - loss: nan - accuracy: 0.5000\n",
            "Epoch 3/10\n",
            "1/1 [==============================] - 0s 15ms/step - loss: nan - accuracy: 0.5000\n",
            "Epoch 4/10\n",
            "1/1 [==============================] - 0s 16ms/step - loss: nan - accuracy: 0.5000\n",
            "Epoch 5/10\n",
            "1/1 [==============================] - 0s 13ms/step - loss: nan - accuracy: 0.5000\n",
            "Epoch 6/10\n",
            "1/1 [==============================] - 0s 13ms/step - loss: nan - accuracy: 0.5000\n",
            "Epoch 7/10\n",
            "1/1 [==============================] - 0s 11ms/step - loss: nan - accuracy: 0.5000\n",
            "Epoch 8/10\n",
            "1/1 [==============================] - 0s 10ms/step - loss: nan - accuracy: 0.5000\n",
            "Epoch 9/10\n",
            "1/1 [==============================] - 0s 10ms/step - loss: nan - accuracy: 0.5000\n",
            "Epoch 10/10\n",
            "1/1 [==============================] - 0s 9ms/step - loss: nan - accuracy: 0.5000\n"
          ]
        },
        {
          "output_type": "execute_result",
          "data": {
            "text/plain": [
              "<keras.src.callbacks.History at 0x7b3da2c683a0>"
            ]
          },
          "metadata": {},
          "execution_count": 58
        }
      ],
      "source": [
        "from keras.preprocessing.text import Tokenizer\n",
        "from keras.preprocessing.sequence import pad_sequences\n",
        "from keras.layers import Input, Dense, Reshape, Flatten\n",
        "from keras.models import Model\n",
        "\n",
        "\n",
        "max_input_len = 2\n",
        "max_output_len = 2 #cantidad de salidas\n",
        "max_item_output_len = 2 #cantidad de elementos en cada elemento de la salida\n",
        "total_len_output = max_output_len * max_item_output_len\n",
        "\n",
        "\n",
        "\n",
        "# Crear el modelo\n",
        "model = Model(inputs=inputA, outputs=output)\n",
        "\n",
        "# Compilar el modelo\n",
        "model.compile(loss='categorical_crossentropy', optimizer='adam', metrics=['accuracy'])\n",
        "\n",
        "# Entrenar el modelo\n",
        "model.fit(train_x, train_y, epochs=10, batch_size=32)\n"
      ]
    }
  ]
}